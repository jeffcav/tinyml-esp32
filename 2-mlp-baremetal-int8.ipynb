{
 "cells": [
  {
   "attachments": {},
   "cell_type": "markdown",
   "metadata": {},
   "source": [
    "# MLP with floating point weights and baremetal C implementation"
   ]
  },
  {
   "cell_type": "code",
   "execution_count": 1,
   "metadata": {},
   "outputs": [],
   "source": [
    "import sys\n",
    "import copy\n",
    "import time\n",
    "import serial\n",
    "import numpy as np\n",
    "from tqdm import tqdm\n",
    "import matplotlib.pyplot as plt\n",
    "\n",
    "from sklearn.decomposition import PCA\n",
    "from sklearn.model_selection import train_test_split\n",
    "\n",
    "import torch\n",
    "from torch.utils.data import TensorDataset, DataLoader\n",
    "\n",
    "import src.python.dataset.yalefaces as yalefaces\n",
    "import src.python.model.util as util\n",
    "\n",
    "np.random.seed(99)"
   ]
  },
  {
   "cell_type": "code",
   "execution_count": 2,
   "metadata": {},
   "outputs": [
    {
     "data": {
      "text/plain": [
       "device(type='cuda')"
      ]
     },
     "execution_count": 2,
     "metadata": {},
     "output_type": "execute_result"
    }
   ],
   "source": [
    "device = torch.device('cuda' if torch.cuda.is_available() else 'cpu')\n",
    "device"
   ]
  },
  {
   "attachments": {},
   "cell_type": "markdown",
   "metadata": {},
   "source": [
    "## Load dataset\n",
    "### Load and normalize the raw dataset"
   ]
  },
  {
   "cell_type": "code",
   "execution_count": 3,
   "metadata": {},
   "outputs": [],
   "source": [
    "X, y = yalefaces.load(\"dataset/yalefaces\", flatten=True)\n",
    "X = X.astype(\"float32\") / 255.0"
   ]
  },
  {
   "attachments": {},
   "cell_type": "markdown",
   "metadata": {},
   "source": [
    "### Split dataset into train and test"
   ]
  },
  {
   "cell_type": "code",
   "execution_count": 4,
   "metadata": {},
   "outputs": [],
   "source": [
    "X_train_raw, X_test_raw, y_train, y_test = train_test_split(X, y, test_size=0.2, random_state=42, shuffle=True, stratify=y)"
   ]
  },
  {
   "attachments": {},
   "cell_type": "markdown",
   "metadata": {},
   "source": [
    "### Compress dataset with PCA"
   ]
  },
  {
   "cell_type": "code",
   "execution_count": 5,
   "metadata": {},
   "outputs": [],
   "source": [
    "num_train_faces, num_pixels = X_train_raw.shape\n",
    "num_principal_components = int(num_train_faces)\n",
    "pca = PCA(n_components=num_principal_components)\n",
    "\n",
    "pca.fit(X)\n",
    "\n",
    "X_train = pca.transform(X_train_raw)\n",
    "X_test = pca.transform(X_test_raw)"
   ]
  },
  {
   "cell_type": "code",
   "execution_count": 21,
   "metadata": {},
   "outputs": [
    {
     "name": "stdout",
     "output_type": "stream",
     "text": [
      "(132, 132) (33, 132)\n"
     ]
    }
   ],
   "source": [
    "print(X_train.shape, X_test.shape)"
   ]
  },
  {
   "attachments": {},
   "cell_type": "markdown",
   "metadata": {},
   "source": [
    "### Convert datasets to pythorch tensors"
   ]
  },
  {
   "cell_type": "code",
   "execution_count": 6,
   "metadata": {},
   "outputs": [],
   "source": [
    "train_dataset = TensorDataset(torch.Tensor(X_train), torch.LongTensor(y_train))\n",
    "test_dataset = TensorDataset(torch.Tensor(X_test), torch.LongTensor(y_test))"
   ]
  },
  {
   "attachments": {},
   "cell_type": "markdown",
   "metadata": {},
   "source": [
    "## Train MLP"
   ]
  },
  {
   "cell_type": "code",
   "execution_count": 7,
   "metadata": {},
   "outputs": [],
   "source": [
    "class MLP(torch.nn.Module):\n",
    "  def __init__(self):\n",
    "    super().__init__()\n",
    "    self.layers = torch.nn.Sequential(\n",
    "      torch.nn.Linear(132, 96, bias=True),\n",
    "      torch.nn.ReLU(),\n",
    "      torch.nn.Linear(96, 15, bias=True),\n",
    "    )\n",
    "\n",
    "  def forward(self, x):\n",
    "    return self.layers(x)"
   ]
  },
  {
   "cell_type": "code",
   "execution_count": 8,
   "metadata": {},
   "outputs": [],
   "source": [
    "model = MLP()\n",
    "model.to(device)\n",
    "optimizer = torch.optim.Adam(model.parameters(), lr=1e-2, weight_decay=0.0001)"
   ]
  },
  {
   "cell_type": "code",
   "execution_count": 9,
   "metadata": {},
   "outputs": [],
   "source": [
    "train_accs= []\n",
    "train_losses = []\n",
    "\n",
    "for epoch in range(200):\n",
    "    train_data = DataLoader(train_dataset, batch_size=64, shuffle=True)\n",
    "    \n",
    "    error, num_samples = util.train(model, device, train_data, optimizer)\n",
    "    loss = float(error)/float(num_samples)\n",
    "    train_losses.append(loss)\n",
    "    \n",
    "    acc = util.test(model, device, train_data)\n",
    "    train_accs.append(acc)"
   ]
  },
  {
   "cell_type": "code",
   "execution_count": 10,
   "metadata": {},
   "outputs": [
    {
     "name": "stdout",
     "output_type": "stream",
     "text": [
      "Test accuracy: 90.91\n"
     ]
    }
   ],
   "source": [
    "test_data = DataLoader(test_dataset, batch_size=len(test_dataset))\n",
    "acc = util.test(model, device, test_data)\n",
    "print(f\"Test accuracy: {acc * 100:.2f}\")"
   ]
  },
  {
   "attachments": {},
   "cell_type": "markdown",
   "metadata": {},
   "source": [
    "## Quantize model"
   ]
  },
  {
   "cell_type": "code",
   "execution_count": 11,
   "metadata": {},
   "outputs": [
    {
     "data": {
      "text/plain": [
       "Sequential(\n",
       "  (0): Linear(in_features=132, out_features=96, bias=True)\n",
       "  (1): ReLU()\n",
       "  (2): Linear(in_features=96, out_features=15, bias=True)\n",
       ")"
      ]
     },
     "execution_count": 11,
     "metadata": {},
     "output_type": "execute_result"
    }
   ],
   "source": [
    "# copy our original model\n",
    "qmodel_float = copy.deepcopy(model.layers)\n",
    "qmodel_float.eval()"
   ]
  },
  {
   "cell_type": "code",
   "execution_count": 12,
   "metadata": {},
   "outputs": [],
   "source": [
    "# fuse layers (weights+activation)\n",
    "torch.quantization.fuse_modules(qmodel_float, ['0', '1'], inplace=True)\n",
    "\n",
    "# add quantization of input and output\n",
    "qmodel_float = torch.nn.Sequential(\n",
    "    torch.quantization.QuantStub(),\n",
    "    *qmodel_float,\n",
    "    torch.quantization.DeQuantStub()\n",
    ")"
   ]
  },
  {
   "cell_type": "code",
   "execution_count": 13,
   "metadata": {},
   "outputs": [
    {
     "data": {
      "text/plain": [
       "QConfig(activation=functools.partial(<class 'torch.ao.quantization.observer.MinMaxObserver'>, quant_min=0, quant_max=127){}, weight=functools.partial(<class 'torch.ao.quantization.observer.MinMaxObserver'>, dtype=torch.qint8, qscheme=torch.per_tensor_symmetric){})"
      ]
     },
     "execution_count": 13,
     "metadata": {},
     "output_type": "execute_result"
    }
   ],
   "source": [
    "# configure quantization\n",
    "qmodel_float.qconfig = torch.quantization.default_qconfig\n",
    "qmodel_float=qmodel_float.to('cpu')\n",
    "qmodel_float.qconfig"
   ]
  },
  {
   "cell_type": "code",
   "execution_count": 14,
   "metadata": {},
   "outputs": [
    {
     "data": {
      "text/plain": [
       "Sequential(\n",
       "  (0): QuantStub(\n",
       "    (activation_post_process): MinMaxObserver(min_val=inf, max_val=-inf)\n",
       "  )\n",
       "  (1): LinearReLU(\n",
       "    (0): Linear(in_features=132, out_features=96, bias=True)\n",
       "    (1): ReLU()\n",
       "    (activation_post_process): MinMaxObserver(min_val=inf, max_val=-inf)\n",
       "  )\n",
       "  (2): Identity()\n",
       "  (3): Linear(\n",
       "    in_features=96, out_features=15, bias=True\n",
       "    (activation_post_process): MinMaxObserver(min_val=inf, max_val=-inf)\n",
       "  )\n",
       "  (4): DeQuantStub()\n",
       ")"
      ]
     },
     "execution_count": 14,
     "metadata": {},
     "output_type": "execute_result"
    }
   ],
   "source": [
    "# initialize quantization parameters\n",
    "torch.quantization.prepare(qmodel_float, inplace=True)"
   ]
  },
  {
   "cell_type": "code",
   "execution_count": 15,
   "metadata": {},
   "outputs": [],
   "source": [
    "# learn quantization parameters from test samples\n",
    "with torch.inference_mode():\n",
    "    for batch_idx, (x, y) in enumerate(test_data):\n",
    "        x,y = x.to('cpu'), y.to('cpu')\n",
    "        qmodel_float(x)\n",
    "\n",
    "# quantize weights\n",
    "qmodel = torch.quantization.convert(qmodel_float, inplace=False)"
   ]
  },
  {
   "cell_type": "code",
   "execution_count": 16,
   "metadata": {},
   "outputs": [
    {
     "name": "stdout",
     "output_type": "stream",
     "text": [
      "Weight size before quantization: 4 byte(s)\n",
      "Weight size after quantization: 1 byte(s)\n"
     ]
    }
   ],
   "source": [
    "print(\"Weight size before quantization:\", qmodel_float[1][0].weight.element_size(), \"byte(s)\")\n",
    "print(\"Weight size after quantization:\", qmodel[1].weight().element_size(), \"byte(s)\")"
   ]
  },
  {
   "cell_type": "code",
   "execution_count": 17,
   "metadata": {},
   "outputs": [
    {
     "name": "stdout",
     "output_type": "stream",
     "text": [
      "Test accuracy: 90.91\n"
     ]
    }
   ],
   "source": [
    "# measure accuracy of the quantized model\n",
    "test_data = DataLoader(test_dataset, batch_size=len(test_dataset))\n",
    "acc = util.test(qmodel, 'cpu', test_data)\n",
    "print(f\"Test accuracy: {acc * 100:.2f}\")"
   ]
  },
  {
   "attachments": {},
   "cell_type": "markdown",
   "metadata": {},
   "source": [
    "## Export model weights as C code"
   ]
  },
  {
   "cell_type": "code",
   "execution_count": 18,
   "metadata": {},
   "outputs": [],
   "source": [
    "model_params = model.state_dict()\n",
    "qmodel_params = qmodel.state_dict()"
   ]
  },
  {
   "cell_type": "code",
   "execution_count": 22,
   "metadata": {},
   "outputs": [],
   "source": [
    "layer_indexes = [1, 3]\n",
    "\n",
    "src_filename = 'src/embedded/2-mlp-baremetal-int8/esp32s3/main/mlp_weights.c'\n",
    "hdr_filename = 'src/embedded/2-mlp-baremetal-int8/esp32s3/include/mlp_weights.h'\n",
    "\n",
    "model.cpu()\n",
    "\n",
    "with open(src_filename, 'w') as source, open(hdr_filename, 'w') as header:\n",
    "\n",
    "    # header preamble\n",
    "    header.write('#ifndef MLP_WEIGHTS\\n#define MLP_WEIGHTS\\n\\n')\n",
    "    header.write('#include <stdint.h>\\n\\n')\n",
    "\n",
    "    # source includes\n",
    "    source.write('#include \"mlp_weights.h\"\\n\\n')\n",
    "\n",
    "    # input: quantization params\n",
    "    x_scale, x_zero = util.get_input_qparams(qmodel_params)\n",
    "    header.write(f\"extern const float input_zero;\\n\")\n",
    "    header.write(f\"extern const float input_scale;\\n\\n\")\n",
    "    source.write(f\"const float input_zero = {x_zero};\\n\")\n",
    "    source.write(f\"const float input_scale = {x_scale};\\n\\n\")\n",
    "\n",
    "    for layer in layer_indexes:\n",
    "        weights = util.get_weights(model_params, layer-1).flatten()\n",
    "        weights_scale, layer_scale = util.get_scale(qmodel_params, layer)\n",
    "        weights_zero, layer_zero = util.get_zero(qmodel_params, layer)\n",
    "\n",
    "        # quantize weights and bias\n",
    "        qweights = (np.around(weights / weights_scale) + weights_zero).astype(int)\n",
    "        qweights -= weights_zero\n",
    "\n",
    "        # layer and weights: quantization params\n",
    "        header.write(f\"extern const int8_t layer_{layer}_weights_zero;\\n\")\n",
    "        header.write(f\"extern const float layer_{layer}_weights_scale;\\n\\n\")\n",
    "        header.write(f\"extern const int8_t layer_{layer}_zero;\\n\")\n",
    "        header.write(f\"extern const float layer_{layer}_scale;\\n\\n\")\n",
    "\n",
    "        source.write(f\"const int8_t layer_{layer}_weights_zero = {weights_zero};\\n\")\n",
    "        source.write(f\"const float layer_{layer}_weights_scale = {weights_scale};\\n\\n\")\n",
    "        source.write(f\"const int8_t layer_{layer}_zero = {layer_zero};\\n\")\n",
    "        source.write(f\"const float layer_{layer}_scale = {layer_scale};\\n\\n\")\n",
    "\n",
    "        # Weights\n",
    "        header.write(f\"extern const int8_t layer_{layer}_weights[{len(weights)}];\\n\")\n",
    "        source.write(f\"const int8_t layer_{layer}_weights[{len(weights)}] = {{\")\n",
    "        for i in range(len(weights)-1):\n",
    "            source.write(f\"{qweights[i]}, \")\n",
    "        source.write(f\"{qweights[len(qweights)-1]}}};\\n\\n\")\n",
    "\n",
    "        header.write(f\"extern const int16_t layer_{layer}_weights_s16[{len(weights)}];\\n\")\n",
    "        source.write(f\"const int16_t layer_{layer}_weights_s16[{len(weights)}] = {{\")\n",
    "        for i in range(len(weights)-1):\n",
    "            source.write(f\"{qweights[i]}, \")\n",
    "        source.write(f\"{qweights[len(qweights)-1]}}};\\n\\n\")\n",
    "\n",
    "    header.write('\\n#endif // end of MLP_PARAMS\\n')"
   ]
  },
  {
   "attachments": {},
   "cell_type": "markdown",
   "metadata": {},
   "source": [
    "## Talk to esp32"
   ]
  },
  {
   "cell_type": "code",
   "execution_count": 30,
   "metadata": {},
   "outputs": [
    {
     "name": "stdout",
     "output_type": "stream",
     "text": [
      "  0%|          | 0/33 [00:00<?, ?it/s]13 0\n",
      "Accuracy = 0.00%, Average Inference Duration = 2.158ms:   3%|▎         | 1/33 [00:00<00:04,  7.26it/s]5 0\n",
      "Accuracy = 0.00%, Average Inference Duration = 0.376ms:   3%|▎         | 1/33 [00:00<00:04,  7.26it/s]10 0\n",
      "Accuracy = 0.00%, Average Inference Duration = 0.378ms:   9%|▉         | 3/33 [00:00<00:02, 13.66it/s]11 0\n",
      "Accuracy = 0.00%, Average Inference Duration = 0.378ms:   9%|▉         | 3/33 [00:00<00:02, 13.66it/s]2 0\n",
      "Accuracy = 0.00%, Average Inference Duration = 0.378ms:  15%|█▌        | 5/33 [00:00<00:01, 16.24it/s]4 0\n",
      "Accuracy = 0.00%, Average Inference Duration = 0.375ms:  15%|█▌        | 5/33 [00:00<00:01, 16.24it/s]6 0\n",
      "Accuracy = 0.00%, Average Inference Duration = 0.384ms:  21%|██        | 7/33 [00:00<00:01, 17.59it/s]5 0\n",
      "Accuracy = 0.00%, Average Inference Duration = 0.377ms:  21%|██        | 7/33 [00:00<00:01, 17.59it/s]4 0\n",
      "Accuracy = 0.00%, Average Inference Duration = 0.377ms:  27%|██▋       | 9/33 [00:00<00:01, 18.37it/s]12 0\n",
      "Accuracy = 0.00%, Average Inference Duration = 0.377ms:  27%|██▋       | 9/33 [00:00<00:01, 18.37it/s]10 0\n",
      "Accuracy = 0.00%, Average Inference Duration = 0.377ms:  33%|███▎      | 11/33 [00:00<00:01, 18.85it/s]3 0\n",
      "Accuracy = 0.00%, Average Inference Duration = 0.377ms:  33%|███▎      | 11/33 [00:00<00:01, 18.85it/s]7 0\n",
      "Accuracy = 0.00%, Average Inference Duration = 0.378ms:  39%|███▉      | 13/33 [00:00<00:01, 19.15it/s]3 0\n",
      "Accuracy = 0.00%, Average Inference Duration = 0.378ms:  39%|███▉      | 13/33 [00:00<00:01, 19.15it/s]8 0\n",
      "Accuracy = 0.00%, Average Inference Duration = 0.378ms:  45%|████▌     | 15/33 [00:00<00:00, 19.36it/s]2 0\n",
      "Accuracy = 0.00%, Average Inference Duration = 0.379ms:  45%|████▌     | 15/33 [00:00<00:00, 19.36it/s]12 0\n",
      "Accuracy = 0.00%, Average Inference Duration = 0.378ms:  52%|█████▏    | 17/33 [00:00<00:00, 19.51it/s]8 0\n",
      "Accuracy = 0.00%, Average Inference Duration = 0.379ms:  52%|█████▏    | 17/33 [00:00<00:00, 19.51it/s]9 0\n",
      "Accuracy = 0.00%, Average Inference Duration = 0.377ms:  58%|█████▊    | 19/33 [00:01<00:00, 19.61it/s]0 0\n",
      "Accuracy = 5.00%, Average Inference Duration = 0.379ms:  58%|█████▊    | 19/33 [00:01<00:00, 19.61it/s]1 0\n",
      "Accuracy = 4.76%, Average Inference Duration = 0.379ms:  64%|██████▎   | 21/33 [00:01<00:00, 19.68it/s]3 0\n",
      "Accuracy = 4.55%, Average Inference Duration = 0.378ms:  64%|██████▎   | 21/33 [00:01<00:00, 19.68it/s]6 0\n",
      "Accuracy = 4.35%, Average Inference Duration = 0.378ms:  70%|██████▉   | 23/33 [00:01<00:00, 19.74it/s]14 0\n",
      "Accuracy = 4.17%, Average Inference Duration = 0.379ms:  70%|██████▉   | 23/33 [00:01<00:00, 19.74it/s]9 0\n",
      "Accuracy = 4.00%, Average Inference Duration = 0.376ms:  76%|███████▌  | 25/33 [00:01<00:00, 19.76it/s]0 0\n",
      "Accuracy = 7.69%, Average Inference Duration = 0.378ms:  76%|███████▌  | 25/33 [00:01<00:00, 19.76it/s]13 0\n",
      "Accuracy = 7.41%, Average Inference Duration = 0.376ms:  82%|████████▏ | 27/33 [00:01<00:00, 19.79it/s]6 0\n",
      "Accuracy = 7.14%, Average Inference Duration = 0.376ms:  82%|████████▏ | 27/33 [00:01<00:00, 19.79it/s]7 0\n",
      "Accuracy = 6.90%, Average Inference Duration = 0.378ms:  88%|████████▊ | 29/33 [00:01<00:00, 19.81it/s]12 0\n",
      "Accuracy = 6.67%, Average Inference Duration = 0.384ms:  88%|████████▊ | 29/33 [00:01<00:00, 19.81it/s]14 0\n",
      "Accuracy = 6.45%, Average Inference Duration = 0.378ms:  94%|█████████▍| 31/33 [00:01<00:00, 19.81it/s]1 0\n",
      "Accuracy = 6.25%, Average Inference Duration = 0.379ms:  94%|█████████▍| 31/33 [00:01<00:00, 19.81it/s]11 0\n",
      "Accuracy = 6.06%, Average Inference Duration = 0.379ms: 100%|██████████| 33/33 [00:01<00:00, 18.84it/s]\n"
     ]
    }
   ],
   "source": [
    "CPU_FREQ_KHZ = 240000\n",
    "num_tests = len(X_test)\n",
    "\n",
    "with serial.Serial(\"/dev/ttyUSB0\", baudrate=115200, timeout=None) as esp32, tqdm(total=num_tests, file=sys.stdout) as pbar:\n",
    "    esp32.read_until(b'Ready\\n')\n",
    "    \n",
    "    num_correct = 0\n",
    "    all_elapsed = []\n",
    "\n",
    "    for i in range(num_tests):\n",
    "        face = X_test[i]\n",
    "        expected = y_test[i]\n",
    "\n",
    "        # msg = esp32.read_until(b'Waiting for input\\n')\n",
    "        expected_msg = b'Waiting for input\\n'\n",
    "        msg = esp32.read_until(expected_msg)\n",
    "        \n",
    "        # msg = esp32.read(len(expected_msg))\n",
    "        assert msg == expected_msg, msg\n",
    "        # assert msg.__contains__(expected_msg), msg\n",
    "\n",
    "        # send command=1 (new inference)\n",
    "        esp32.write(b'\\x01')\n",
    "\n",
    "        # send input (132 bytes)\n",
    "        esp32.write(face.tobytes())\n",
    "\n",
    "        # read output\n",
    "        subject = esp32.read(4)\n",
    "        subject = int.from_bytes(subject, byteorder=\"little\")\n",
    "\n",
    "        # read inference duration\n",
    "        elapsed = esp32.read(4)\n",
    "        elapsed = int.from_bytes(elapsed, byteorder=\"little\")\n",
    "        all_elapsed.append(elapsed)\n",
    "\n",
    "        # count correct inferences\n",
    "        if expected == subject:\n",
    "            num_correct += 1\n",
    "\n",
    "\n",
    "        print(expected, subject)\n",
    "        # print status\n",
    "        acc = num_correct/(i+1)\n",
    "        pbar.set_description(f\"Accuracy = {acc*100:.2f}%, Average Inference Duration = {elapsed/CPU_FREQ_KHZ:.3f}ms\")\n",
    "        pbar.update(1)\n"
   ]
  }
 ],
 "metadata": {
  "kernelspec": {
   "display_name": "venv",
   "language": "python",
   "name": "python3"
  },
  "language_info": {
   "codemirror_mode": {
    "name": "ipython",
    "version": 3
   },
   "file_extension": ".py",
   "mimetype": "text/x-python",
   "name": "python",
   "nbconvert_exporter": "python",
   "pygments_lexer": "ipython3",
   "version": "3.10.7"
  },
  "orig_nbformat": 4,
  "vscode": {
   "interpreter": {
    "hash": "335bc577f4714844361dc0df4b7a2ea152f61cb4ad8245b2534b0c0899fbb0f6"
   }
  }
 },
 "nbformat": 4,
 "nbformat_minor": 2
}
