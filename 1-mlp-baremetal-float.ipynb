{
 "cells": [
  {
   "attachments": {},
   "cell_type": "markdown",
   "metadata": {},
   "source": [
    "# MLP with floating point weights and baremetal C implementation"
   ]
  },
  {
   "cell_type": "code",
   "execution_count": 1,
   "metadata": {},
   "outputs": [],
   "source": [
    "import numpy as np\n",
    "import matplotlib.pyplot as plt\n",
    "\n",
    "from sklearn.decomposition import PCA\n",
    "from sklearn.model_selection import train_test_split\n",
    "\n",
    "import torch\n",
    "from torch.utils.data import TensorDataset, DataLoader\n",
    "\n",
    "import src.python.dataset.yalefaces as yalefaces\n",
    "import src.python.model.util as util\n",
    "\n",
    "np.random.seed(99)"
   ]
  },
  {
   "cell_type": "code",
   "execution_count": 2,
   "metadata": {},
   "outputs": [
    {
     "data": {
      "text/plain": [
       "device(type='cpu')"
      ]
     },
     "execution_count": 2,
     "metadata": {},
     "output_type": "execute_result"
    }
   ],
   "source": [
    "device = torch.device('cuda' if torch.cuda.is_available() else 'cpu')\n",
    "device"
   ]
  },
  {
   "attachments": {},
   "cell_type": "markdown",
   "metadata": {},
   "source": [
    "## Load dataset\n",
    "### Load and normalize the raw dataset"
   ]
  },
  {
   "cell_type": "code",
   "execution_count": 3,
   "metadata": {},
   "outputs": [],
   "source": [
    "X, y = yalefaces.load(\"dataset/yalefaces\", flatten=True)\n",
    "X = X.astype(\"float32\") / 255.0"
   ]
  },
  {
   "attachments": {},
   "cell_type": "markdown",
   "metadata": {},
   "source": [
    "### Compress dataset with PCA"
   ]
  },
  {
   "cell_type": "code",
   "execution_count": 4,
   "metadata": {},
   "outputs": [],
   "source": [
    "num_faces, num_pixels = X.shape\n",
    "num_principal_components = int(num_faces)\n",
    "\n",
    "pca = PCA(n_components=num_principal_components)\n",
    "pca.fit(X)\n",
    "\n",
    "X_compressed = pca.transform(X)"
   ]
  },
  {
   "attachments": {},
   "cell_type": "markdown",
   "metadata": {},
   "source": [
    "### Split dataset into train and test"
   ]
  },
  {
   "cell_type": "code",
   "execution_count": 5,
   "metadata": {},
   "outputs": [],
   "source": [
    "X_train, X_test, y_train, y_test = train_test_split(X_compressed, y, test_size=0.2, random_state=42, shuffle=True, stratify=y)\n",
    "\n",
    "train_dataset = TensorDataset(torch.Tensor(X_train), torch.LongTensor(y_train))\n",
    "test_dataset = TensorDataset(torch.Tensor(X_test), torch.LongTensor(y_test))"
   ]
  },
  {
   "attachments": {},
   "cell_type": "markdown",
   "metadata": {},
   "source": [
    "## Train MLP"
   ]
  },
  {
   "cell_type": "code",
   "execution_count": 6,
   "metadata": {},
   "outputs": [],
   "source": [
    "class MLP(torch.nn.Module):\n",
    "  def __init__(self):\n",
    "    super().__init__()\n",
    "    self.layers = torch.nn.Sequential(\n",
    "      torch.nn.Linear(165, 96, bias=True),\n",
    "      torch.nn.ReLU(),\n",
    "      torch.nn.Linear(96, 15, bias=True),\n",
    "    )\n",
    "\n",
    "  def forward(self, x):\n",
    "    return self.layers(x)"
   ]
  },
  {
   "cell_type": "code",
   "execution_count": 7,
   "metadata": {},
   "outputs": [],
   "source": [
    "model = MLP()\n",
    "optimizer = torch.optim.Adam(model.parameters(), lr=1e-2, weight_decay=0.0001)"
   ]
  },
  {
   "cell_type": "code",
   "execution_count": 8,
   "metadata": {},
   "outputs": [],
   "source": [
    "train_accs= []\n",
    "train_losses = []\n",
    "\n",
    "for epoch in range(200):\n",
    "    train_data = DataLoader(train_dataset, batch_size=64, shuffle=True)\n",
    "    \n",
    "    error, num_samples = util.train(model, device, train_data, optimizer)\n",
    "    loss = float(error)/float(num_samples)\n",
    "    train_losses.append(loss)\n",
    "    \n",
    "    acc = util.test(model, device, train_data)\n",
    "    train_accs.append(acc)"
   ]
  },
  {
   "cell_type": "code",
   "execution_count": 9,
   "metadata": {},
   "outputs": [
    {
     "data": {
      "text/plain": [
       "Text(0.5, 1.0, 'Accuracy')"
      ]
     },
     "execution_count": 9,
     "metadata": {},
     "output_type": "execute_result"
    },
    {
     "data": {
      "image/png": "[encoded data removed]",
      "text/plain": [
       "<Figure size 640x480 with 2 Axes>"
      ]
     },
     "metadata": {},
     "output_type": "display_data"
    }
   ],
   "source": [
    "fig, (ax1, ax2) = plt.subplots(1, 2)\n",
    "fig.suptitle('Train loss and accuracy')\n",
    "\n",
    "ax1.plot(train_losses)\n",
    "ax1.set_title(\"Loss\")\n",
    "\n",
    "ax2.plot(train_accs)\n",
    "ax2.set_title(\"Accuracy\")"
   ]
  },
  {
   "cell_type": "code",
   "execution_count": 10,
   "metadata": {},
   "outputs": [
    {
     "name": "stdout",
     "output_type": "stream",
     "text": [
      "Test accuracy: 84.85\n"
     ]
    }
   ],
   "source": [
    "test_data = DataLoader(test_dataset, batch_size=len(test_dataset))\n",
    "acc = util.test(model, device, test_data)\n",
    "print(f\"Test accuracy: {acc * 100:.2f}\")"
   ]
  },
  {
   "attachments": {},
   "cell_type": "markdown",
   "metadata": {},
   "source": [
    "## Export model weights as C code"
   ]
  },
  {
   "cell_type": "code",
   "execution_count": 11,
   "metadata": {},
   "outputs": [],
   "source": [
    "model_params=model.state_dict()"
   ]
  },
  {
   "cell_type": "code",
   "execution_count": 12,
   "metadata": {},
   "outputs": [
    {
     "name": "stdout",
     "output_type": "stream",
     "text": [
      "OrderedDict([('layers.0.weight', tensor([[-2.9215e-02, -7.5896e-02, -2.3351e-02,  ...,  6.9751e-08,\n",
      "         -8.6451e-08,  5.4451e-08],\n",
      "        [-5.7214e-02, -5.7759e-02, -5.4866e-03,  ...,  4.0329e-08,\n",
      "         -1.0368e-08,  2.7128e-09],\n",
      "        [ 6.5338e-02, -6.4358e-04,  2.0575e-02,  ..., -2.2563e-09,\n",
      "         -1.5429e-08,  1.8309e-07],\n",
      "        ...,\n",
      "        [ 4.9583e-02, -2.0581e-03, -4.0346e-02,  ..., -7.3698e-08,\n",
      "          9.2030e-09, -1.5519e-08],\n",
      "        [-1.3617e-02, -1.4954e-02,  1.3239e-01,  ...,  4.7438e-08,\n",
      "          2.0360e-07,  2.1893e-08],\n",
      "        [ 5.4411e-02, -8.0388e-02,  3.5239e-02,  ...,  2.6136e-08,\n",
      "         -9.1189e-09, -2.9159e-08]])), ('layers.0.bias', tensor([-0.0009, -0.0299, -0.0130, -0.0185, -0.0349,  0.0083, -0.0006, -0.0184,\n",
      "         0.0581,  0.0055,  0.0154, -0.0031,  0.0325,  0.0020,  0.0270,  0.0037,\n",
      "         0.0287, -0.0316, -0.0266,  0.0181, -0.0742, -0.0079, -0.0803, -0.0351,\n",
      "         0.0312,  0.0191,  0.0421, -0.0350,  0.0321, -0.0144, -0.0741,  0.0229,\n",
      "         0.0265, -0.0326, -0.0123, -0.0370,  0.0284, -0.0128, -0.0302,  0.0029,\n",
      "         0.0341, -0.0352, -0.0525,  0.0260, -0.0425,  0.0065,  0.0393, -0.0255,\n",
      "        -0.0231,  0.0225, -0.0132,  0.0040, -0.0366, -0.0943,  0.0510, -0.0376,\n",
      "         0.0621, -0.0168, -0.0076,  0.0076, -0.0002, -0.0277, -0.0634,  0.0882,\n",
      "        -0.0195, -0.0050,  0.0643,  0.0008, -0.0054, -0.0316,  0.0071,  0.0020,\n",
      "        -0.0607,  0.1062, -0.0357,  0.0177,  0.0370,  0.0336, -0.0504,  0.0410,\n",
      "        -0.0019,  0.0163,  0.0445,  0.0510,  0.0372,  0.0203, -0.0230,  0.0785,\n",
      "        -0.0040,  0.0338, -0.0018,  0.0892,  0.0174, -0.0055,  0.0079, -0.0076])), ('layers.2.weight', tensor([[-0.0924, -0.0355,  0.0502,  ...,  0.0921, -0.0516, -0.1278],\n",
      "        [-0.0241, -0.0300,  0.1499,  ..., -0.1507, -0.0645, -0.1111],\n",
      "        [-0.0735, -0.0260,  0.0427,  ..., -0.0418,  0.0750,  0.0133],\n",
      "        ...,\n",
      "        [ 0.1043,  0.0891, -0.0066,  ...,  0.0268,  0.0062, -0.0661],\n",
      "        [-0.0072, -0.0190, -0.1563,  ...,  0.0201, -0.0955,  0.1440],\n",
      "        [-0.0078, -0.0760, -0.1629,  ...,  0.0003,  0.1397,  0.0706]])), ('layers.2.bias', tensor([ 0.0080,  0.0943,  0.0052, -0.0375, -0.0086, -0.0885, -0.0659, -0.0335,\n",
      "         0.0172, -0.0108, -0.0130, -0.0052,  0.1344, -0.0679,  0.0523]))])\n"
     ]
    }
   ],
   "source": [
    "print(model_params)"
   ]
  },
  {
   "cell_type": "code",
   "execution_count": 13,
   "metadata": {},
   "outputs": [],
   "source": [
    "layer_indexes = [0, 2]\n",
    "\n",
    "with open('src/embedded/1-mlp-baremetal-float/esp32s3/main/mlp_weights.c', 'w') as source, open('src/embedded/1-mlp-baremetal-float/esp32s3/main/mlp_weights.h', 'w') as header:\n",
    "    \n",
    "    header.write('#ifndef MLP_WEIGHTS\\n#define MLP_WEIGHTS\\n\\n')\n",
    "    header.write('#include <stdint.h>\\n\\n')\n",
    "    \n",
    "    source.write('#include \"mlp_weights.h\"\\n\\n')\n",
    "\n",
    "    for layer in layer_indexes:\n",
    "        weights = util.get_weights(model_params, layer).flatten()\n",
    "        bias = util.get_bias(model_params, layer).flatten()\n",
    "\n",
    "        # Weights\n",
    "        header.write(f\"extern const float layer_{layer}_weights[{len(weights)}];\\n\")\n",
    "        source.write(f\"const float layer_{layer}_weights[{len(weights)}] = {{\")\n",
    "        for i in range(len(weights)-1):\n",
    "            source.write(f\"{weights[i]}, \")\n",
    "        source.write(f\"{weights[len(weights)-1]}}};\\n\\n\")\n",
    "\n",
    "        # Bias\n",
    "        header.write(f\"extern const float layer_{layer}_bias[{len(bias)}];\\n\")\n",
    "        source.write(f\"const float layer_{layer}_bias[{len(bias)}] = {{\")\n",
    "        for i in range(len(bias)-1):\n",
    "            source.write(f\"{bias[i]}, \")\n",
    "        source.write(f\"{bias[len(bias)-1]}}};\\n\\n\")\n",
    "\n",
    "    header.write('\\n#endif // end of MLP_PARAMS\\n')"
   ]
  }
 ],
 "metadata": {
  "kernelspec": {
   "display_name": "venv",
   "language": "python",
   "name": "python3"
  },
  "language_info": {
   "codemirror_mode": {
    "name": "ipython",
    "version": 3
   },
   "file_extension": ".py",
   "mimetype": "text/x-python",
   "name": "python",
   "nbconvert_exporter": "python",
   "pygments_lexer": "ipython3",
   "version": "3.10.6"
  },
  "orig_nbformat": 4,
  "vscode": {
   "interpreter": {
    "hash": "335bc577f4714844361dc0df4b7a2ea152f61cb4ad8245b2534b0c0899fbb0f6"
   }
  }
 },
 "nbformat": 4,
 "nbformat_minor": 2
}
