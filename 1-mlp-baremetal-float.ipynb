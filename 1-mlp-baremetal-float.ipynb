{
 "cells": [
  {
   "attachments": {},
   "cell_type": "markdown",
   "metadata": {},
   "source": [
    "# MLP with floating point weights and baremetal C implementation"
   ]
  },
  {
   "cell_type": "code",
   "execution_count": 2,
   "metadata": {},
   "outputs": [],
   "source": [
    "import numpy as np\n",
    "import matplotlib.pyplot as plt\n",
    "\n",
    "from sklearn.decomposition import PCA\n",
    "from sklearn.model_selection import train_test_split\n",
    "\n",
    "import torch\n",
    "from torch.utils.data import TensorDataset, DataLoader\n",
    "\n",
    "import src.python.dataset.yalefaces as yalefaces\n",
    "import src.python.model.util as util\n",
    "\n",
    "np.random.seed(99)"
   ]
  },
  {
   "cell_type": "code",
   "execution_count": 3,
   "metadata": {},
   "outputs": [
    {
     "data": {
      "text/plain": [
       "device(type='cpu')"
      ]
     },
     "execution_count": 3,
     "metadata": {},
     "output_type": "execute_result"
    }
   ],
   "source": [
    "device = torch.device('cuda' if torch.cuda.is_available() else 'cpu')\n",
    "device"
   ]
  },
  {
   "attachments": {},
   "cell_type": "markdown",
   "metadata": {},
   "source": [
    "## Load dataset\n",
    "### Load and normalize the raw dataset"
   ]
  },
  {
   "cell_type": "code",
   "execution_count": 4,
   "metadata": {},
   "outputs": [],
   "source": [
    "X, y = yalefaces.load(\"dataset/yalefaces\", flatten=True)\n",
    "X = X.astype(\"float32\") / 255.0"
   ]
  },
  {
   "attachments": {},
   "cell_type": "markdown",
   "metadata": {},
   "source": [
    "### Compress dataset with PCA"
   ]
  },
  {
   "cell_type": "code",
   "execution_count": 5,
   "metadata": {},
   "outputs": [],
   "source": [
    "num_faces, num_pixels = X.shape\n",
    "num_principal_components = int(num_faces)\n",
    "\n",
    "pca = PCA(n_components=num_principal_components)\n",
    "pca.fit(X)\n",
    "\n",
    "X_compressed = pca.transform(X)"
   ]
  },
  {
   "attachments": {},
   "cell_type": "markdown",
   "metadata": {},
   "source": [
    "### Split dataset into train and test"
   ]
  },
  {
   "cell_type": "code",
   "execution_count": 6,
   "metadata": {},
   "outputs": [],
   "source": [
    "X_train, X_test, y_train, y_test = train_test_split(X_compressed, y, test_size=0.2, random_state=42, shuffle=True, stratify=y)\n",
    "\n",
    "train_dataset = TensorDataset(torch.Tensor(X_train), torch.LongTensor(y_train))\n",
    "test_dataset = TensorDataset(torch.Tensor(X_test), torch.LongTensor(y_test))"
   ]
  },
  {
   "attachments": {},
   "cell_type": "markdown",
   "metadata": {},
   "source": [
    "## Train MLP"
   ]
  },
  {
   "cell_type": "code",
   "execution_count": 7,
   "metadata": {},
   "outputs": [],
   "source": [
    "class MLP(torch.nn.Module):\n",
    "  def __init__(self):\n",
    "    super().__init__()\n",
    "    self.layers = torch.nn.Sequential(\n",
    "      torch.nn.Linear(165, 96, bias=True),\n",
    "      torch.nn.ReLU(),\n",
    "      torch.nn.Linear(96, 15, bias=True),\n",
    "    )\n",
    "\n",
    "  def forward(self, x):\n",
    "    return self.layers(x)"
   ]
  },
  {
   "cell_type": "code",
   "execution_count": 8,
   "metadata": {},
   "outputs": [],
   "source": [
    "model = MLP()\n",
    "optimizer = torch.optim.Adam(model.parameters(), lr=1e-2, weight_decay=0.0001)"
   ]
  },
  {
   "cell_type": "code",
   "execution_count": 9,
   "metadata": {},
   "outputs": [],
   "source": [
    "train_accs= []\n",
    "train_losses = []\n",
    "\n",
    "for epoch in range(200):\n",
    "    train_data = DataLoader(train_dataset, batch_size=64, shuffle=True)\n",
    "    \n",
    "    error, num_samples = util.train(model, device, train_data, optimizer)\n",
    "    loss = float(error)/float(num_samples)\n",
    "    train_losses.append(loss)\n",
    "    \n",
    "    acc = util.test(model, device, train_data)\n",
    "    train_accs.append(acc)"
   ]
  },
  {
   "cell_type": "code",
   "execution_count": 10,
   "metadata": {},
   "outputs": [
    {
     "data": {
      "text/plain": [
       "Text(0.5, 1.0, 'Accuracy')"
      ]
     },
     "execution_count": 10,
     "metadata": {},
     "output_type": "execute_result"
    },
    {
     "data": {
      "image/png": "[encoded data removed]",
      "text/plain": [
       "<Figure size 640x480 with 2 Axes>"
      ]
     },
     "metadata": {},
     "output_type": "display_data"
    }
   ],
   "source": [
    "fig, (ax1, ax2) = plt.subplots(1, 2)\n",
    "fig.suptitle('Train loss and accuracy')\n",
    "\n",
    "ax1.plot(train_losses)\n",
    "ax1.set_title(\"Loss\")\n",
    "\n",
    "ax2.plot(train_accs)\n",
    "ax2.set_title(\"Accuracy\")"
   ]
  },
  {
   "cell_type": "code",
   "execution_count": 11,
   "metadata": {},
   "outputs": [
    {
     "name": "stdout",
     "output_type": "stream",
     "text": [
      "Test accuracy: 81.82\n"
     ]
    }
   ],
   "source": [
    "test_data = DataLoader(test_dataset, batch_size=len(test_dataset))\n",
    "acc = util.test(model, device, test_data)\n",
    "print(f\"Test accuracy: {acc * 100:.2f}\")"
   ]
  },
  {
   "attachments": {},
   "cell_type": "markdown",
   "metadata": {},
   "source": [
    "## Export model weights as C code"
   ]
  },
  {
   "cell_type": "code",
   "execution_count": 12,
   "metadata": {},
   "outputs": [],
   "source": [
    "model_params=model.state_dict()"
   ]
  },
  {
   "cell_type": "code",
   "execution_count": 264,
   "metadata": {},
   "outputs": [
    {
     "name": "stdout",
     "output_type": "stream",
     "text": [
      "OrderedDict([('layers.0.weight', tensor([[ 5.6058e-02,  1.3414e-01, -3.7215e-02,  ...,  1.4643e-09,\n",
      "         -2.6780e-08,  1.2370e-08],\n",
      "        [-3.2355e-02, -5.9503e-02,  1.3228e-01,  ...,  2.3216e-08,\n",
      "          2.8908e-09, -5.6209e-09],\n",
      "        [ 3.8460e-02, -3.1022e-02,  3.7237e-02,  ...,  1.0164e-07,\n",
      "          1.0195e-07,  2.5676e-07],\n",
      "        ...,\n",
      "        [-4.9205e-02, -1.2664e-01, -1.4132e-02,  ..., -6.3461e-08,\n",
      "          3.5415e-08, -3.0264e-08],\n",
      "        [-5.7907e-02,  1.2991e-01,  4.6328e-02,  ...,  4.9185e-08,\n",
      "          1.0679e-08,  8.4430e-08],\n",
      "        [ 1.0170e-01,  8.4723e-02, -1.5700e-01,  ...,  5.9975e-10,\n",
      "         -5.2355e-08, -2.3367e-08]])), ('layers.0.bias', tensor([ 0.0060,  0.0448,  0.0144, -0.0360, -0.0373, -0.0199, -0.0139,  0.0023,\n",
      "         0.0403, -0.0223,  0.0110,  0.0511,  0.0280,  0.0122, -0.0144,  0.0847,\n",
      "        -0.0097, -0.0255, -0.0032, -0.0809,  0.0073,  0.0266, -0.0500,  0.0492,\n",
      "         0.0068,  0.0017, -0.0068,  0.0404, -0.0036,  0.0014, -0.0296,  0.0028,\n",
      "        -0.0114, -0.0032,  0.0213,  0.0188,  0.0477,  0.0052,  0.0354,  0.0305,\n",
      "        -0.0287, -0.0238, -0.0417, -0.0489,  0.0063,  0.0427, -0.0102, -0.0372,\n",
      "         0.0418, -0.0010,  0.0093,  0.0214,  0.0756,  0.0440, -0.0392,  0.0110,\n",
      "        -0.0041, -0.0461,  0.0103,  0.0003,  0.0052,  0.0671, -0.0127, -0.0372,\n",
      "         0.0549, -0.0011, -0.0416, -0.0139, -0.0313,  0.0451,  0.0274, -0.0150,\n",
      "         0.0011,  0.0118,  0.0566, -0.0119,  0.0096, -0.0192,  0.0233, -0.0207,\n",
      "        -0.0076,  0.0208, -0.0238,  0.0078,  0.0032, -0.0269,  0.0217, -0.0220,\n",
      "         0.0275,  0.0153,  0.0353,  0.0083, -0.0445,  0.0243, -0.0175,  0.0418])), ('layers.2.weight', tensor([[-0.0973, -0.0662, -0.1244,  ..., -0.1508, -0.0842, -0.1499],\n",
      "        [-0.1138, -0.0867, -0.1632,  ..., -0.1464, -0.0700, -0.1528],\n",
      "        [ 0.0471, -0.0360,  0.1076,  ..., -0.0589,  0.0665, -0.1040],\n",
      "        ...,\n",
      "        [ 0.0388,  0.0506, -0.1458,  ...,  0.1589,  0.0163, -0.1371],\n",
      "        [-0.0067,  0.0126, -0.0266,  ..., -0.0414, -0.0729,  0.1463],\n",
      "        [ 0.0606,  0.0963, -0.0092,  ...,  0.0946, -0.0438, -0.0123]])), ('layers.2.bias', tensor([ 0.0222, -0.0314, -0.1155,  0.0715,  0.0351,  0.0342, -0.0145,  0.0823,\n",
      "         0.1167, -0.0802,  0.0064, -0.0096,  0.0736, -0.0860, -0.0107]))])\n"
     ]
    }
   ],
   "source": [
    "print(model_params)"
   ]
  },
  {
   "cell_type": "code",
   "execution_count": 31,
   "metadata": {},
   "outputs": [],
   "source": [
    "layer_indexes = [0, 2]\n",
    "\n",
    "with open('src/embedded/1-mlp-baremetal-float/esp32s3/main/mlp_weights.c', 'w') as source, open('src/embedded/1-mlp-baremetal-float/esp32s3/include/mlp_weights.h', 'w') as header:\n",
    "    \n",
    "    header.write('#ifndef MLP_WEIGHTS\\n#define MLP_WEIGHTS\\n\\n')\n",
    "    header.write('#include <stdint.h>\\n\\n')\n",
    "    \n",
    "    source.write('#include \"mlp_weights.h\"\\n\\n')\n",
    "\n",
    "    for layer in layer_indexes:\n",
    "        weights = util.get_weights(model_params, layer).flatten()\n",
    "        bias = util.get_bias(model_params, layer)\n",
    "        bias = (bias.reshape((bias.shape[0],1))).flatten()\n",
    "\n",
    "        # Weights\n",
    "        header.write(f\"extern const float layer_{layer}_weights[{len(weights)}];\\n\")\n",
    "        source.write(f\"const float layer_{layer}_weights[{len(weights)}] = {{\")\n",
    "        for i in range(len(weights)-1):\n",
    "            source.write(f\"{weights[i]}, \")\n",
    "        source.write(f\"{weights[len(weights)-1]}}};\\n\\n\")\n",
    "\n",
    "        # Bias\n",
    "        header.write(f\"extern const float layer_{layer}_bias[{len(bias)}];\\n\")\n",
    "        source.write(f\"const float layer_{layer}_bias[{len(bias)}] = {{\")\n",
    "        for i in range(len(bias)-1):\n",
    "            source.write(f\"{bias[i]}, \")\n",
    "        source.write(f\"{bias[len(bias)-1]}}};\\n\\n\")\n",
    "\n",
    "    header.write('\\n#endif // end of MLP_PARAMS\\n')"
   ]
  },
  {
   "cell_type": "code",
   "execution_count": 34,
   "metadata": {},
   "outputs": [
    {
     "name": "stdout",
     "output_type": "stream",
     "text": [
      "(96, 165) (96, 1) (165, 1)\n",
      "[[-8.0471121e-02  3.5137434e-02 -4.6209332e-02 ... -2.4498030e-07\n",
      "  -2.3012687e-08 -1.5369335e-07]\n",
      " [ 7.4327826e-02 -5.9132963e-02  7.5081877e-02 ...  2.1258716e-08\n",
      "  -2.7715906e-08  4.3838526e-08]\n",
      " [-5.6186069e-02  4.4158748e-03 -8.6124465e-02 ... -9.2006751e-08\n",
      "  -3.1611094e-08 -2.3503672e-07]\n",
      " ...\n",
      " [ 8.8999532e-03  7.0336811e-02  2.5640461e-03 ... -1.4641481e-07\n",
      "  -5.4789410e-08  1.1073923e-06]\n",
      " [ 9.2730867e-03  2.6465464e-02 -1.5466584e-01 ...  5.5848915e-08\n",
      "  -1.7151386e-08 -9.4994022e-09]\n",
      " [ 1.4059463e-01 -1.4234808e-01 -3.0184884e-03 ... -8.1475960e-08\n",
      "  -1.1686666e-07  1.1933655e-07]]\n",
      "[[-0.03537565]\n",
      " [-0.0115639 ]\n",
      " [ 0.01251604]\n",
      " [ 0.02737738]\n",
      " [-0.02270303]\n",
      " [ 0.0324869 ]\n",
      " [-0.06266496]\n",
      " [-0.00968288]\n",
      " [-0.02865187]\n",
      " [-0.01072748]]\n",
      "(96, 1)\n",
      "(15, 96) (15, 1) (96, 1)\n",
      "7 7\n"
     ]
    }
   ],
   "source": [
    "def relu(x):\n",
    "    return x * (x > 0)\n",
    "\n",
    "\n",
    "layer_indexes = [0, 2]\n",
    "face = X_test[12]\n",
    "expected = y_test[12]\n",
    "\n",
    "x = face\n",
    "x = x.reshape((165,1))\n",
    "\n",
    "\n",
    "weights = util.get_weights(model_params, 0)\n",
    "bias = util.get_bias(model_params, 0)\n",
    "bias = bias.reshape((bias.shape[0],1))\n",
    "\n",
    "print(weights.shape, bias.shape, x.shape)\n",
    "print(weights[0:10])\n",
    "print(bias[0:10])\n",
    "\n",
    "y = weights@x\n",
    "print(y.shape)\n",
    "\n",
    "y = y+bias\n",
    "y = relu(y)\n",
    "x = y\n",
    "\n",
    "\n",
    "weights = util.get_weights(model_params, 2)\n",
    "bias = util.get_bias(model_params, 2)\n",
    "bias = bias.reshape((bias.shape[0],1))\n",
    "\n",
    "print(weights.shape, bias.shape, x.shape)\n",
    "\n",
    "y = weights@x\n",
    "y = y+bias\n",
    "\n",
    "print(np.argmax(y), expected)\n",
    "\n"
   ]
  },
  {
   "attachments": {},
   "cell_type": "markdown",
   "metadata": {},
   "source": [
    "## Talk to esp32"
   ]
  },
  {
   "cell_type": "code",
   "execution_count": 39,
   "metadata": {},
   "outputs": [
    {
     "name": "stdout",
     "output_type": "stream",
     "text": [
      "FAIL - Expected: 13, got: 14\n",
      "OK - Expected: 5, got: 5\n",
      "OK - Expected: 10, got: 10\n",
      "OK - Expected: 11, got: 11\n",
      "OK - Expected: 2, got: 2\n",
      "OK - Expected: 4, got: 4\n",
      "OK - Expected: 6, got: 6\n",
      "OK - Expected: 5, got: 5\n",
      "OK - Expected: 4, got: 4\n",
      "FAIL - Expected: 12, got: 6\n",
      "OK - Expected: 10, got: 10\n",
      "FAIL - Expected: 3, got: 8\n",
      "OK - Expected: 7, got: 7\n",
      "OK - Expected: 3, got: 3\n",
      "OK - Expected: 8, got: 8\n",
      "OK - Expected: 2, got: 2\n",
      "OK - Expected: 12, got: 12\n",
      "OK - Expected: 8, got: 8\n",
      "OK - Expected: 9, got: 9\n",
      "OK - Expected: 0, got: 0\n",
      "FAIL - Expected: 1, got: 14\n",
      "OK - Expected: 3, got: 3\n",
      "OK - Expected: 6, got: 6\n",
      "OK - Expected: 14, got: 14\n",
      "OK - Expected: 9, got: 9\n",
      "FAIL - Expected: 0, got: 3\n",
      "OK - Expected: 13, got: 13\n",
      "OK - Expected: 6, got: 6\n",
      "OK - Expected: 7, got: 7\n",
      "FAIL - Expected: 12, got: 6\n",
      "OK - Expected: 14, got: 14\n",
      "OK - Expected: 1, got: 1\n",
      "OK - Expected: 11, got: 11\n",
      "Accuracy: 0.8181818181818182%\n"
     ]
    }
   ],
   "source": [
    "import time\n",
    "import serial\n",
    "\n",
    "with serial.Serial(\"/dev/ttyUSB0\", 115200, timeout=None) as esp32:\n",
    "    esp32.read_until(b'Ready\\n')\n",
    "    \n",
    "    num_tests = len(X_test)\n",
    "    num_correct = 0\n",
    "    \n",
    "    for i in range(num_tests):\n",
    "        face = X_test[i]\n",
    "        expected = y_test[i]\n",
    "\n",
    "        msg = esp32.read(18)\n",
    "        assert msg == b'Waiting for input\\n'\n",
    "\n",
    "        esp32.write(b'\\x01')\n",
    "\n",
    "        msg = esp32.read(14)\n",
    "        assert msg == b'Reading input\\n'\n",
    "\n",
    "        esp32.write(face.tobytes())\n",
    "        # esp32.write((face.astype(float)).tobytes())\n",
    "\n",
    "        msg = esp32.read(11)\n",
    "        assert msg == b'Processing\\n'\n",
    "\n",
    "        subject = esp32.read(4)\n",
    "        subject = int.from_bytes(subject, byteorder=\"little\")\n",
    "\n",
    "        if expected == subject:\n",
    "            num_correct += 1\n",
    "            status='OK'\n",
    "        else:\n",
    "            status='FAIL'\n",
    "\n",
    "        print(f\"{status} - Expected: {expected}, got: {subject}\")\n",
    "    acc = num_correct/num_tests\n",
    "    print(f\"Accuracy: {acc}%\")\n",
    "\n"
   ]
  }
 ],
 "metadata": {
  "kernelspec": {
   "display_name": "venv",
   "language": "python",
   "name": "python3"
  },
  "language_info": {
   "codemirror_mode": {
    "name": "ipython",
    "version": 3
   },
   "file_extension": ".py",
   "mimetype": "text/x-python",
   "name": "python",
   "nbconvert_exporter": "python",
   "pygments_lexer": "ipython3",
   "version": "3.10.6"
  },
  "orig_nbformat": 4,
  "vscode": {
   "interpreter": {
    "hash": "335bc577f4714844361dc0df4b7a2ea152f61cb4ad8245b2534b0c0899fbb0f6"
   }
  }
 },
 "nbformat": 4,
 "nbformat_minor": 2
}
